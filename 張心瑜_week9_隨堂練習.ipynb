{
  "nbformat": 4,
  "nbformat_minor": 0,
  "metadata": {
    "colab": {
      "name": "張心瑜_week9_隨堂練習.ipynb",
      "provenance": [],
      "authorship_tag": "ABX9TyO4r0sIVGRV+U5jJFyT8Zer",
      "include_colab_link": true
    },
    "kernelspec": {
      "name": "python3",
      "display_name": "Python 3"
    },
    "language_info": {
      "name": "python"
    }
  },
  "cells": [
    {
      "cell_type": "markdown",
      "metadata": {
        "id": "view-in-github",
        "colab_type": "text"
      },
      "source": [
        "<a href=\"https://colab.research.google.com/github/ppotteru/Computationthinkingandprogramdesign/blob/main/%E5%BC%B5%E5%BF%83%E7%91%9C_week9_%E9%9A%A8%E5%A0%82%E7%B7%B4%E7%BF%92.ipynb\" target=\"_parent\"><img src=\"https://colab.research.google.com/assets/colab-badge.svg\" alt=\"Open In Colab\"/></a>"
      ]
    },
    {
      "cell_type": "code",
      "metadata": {
        "colab": {
          "base_uri": "https://localhost:8080/"
        },
        "id": "4-9XIQwZdwf1",
        "outputId": "eedff502-80eb-4b91-901a-af563d49a554"
      },
      "source": [
        "In [1]: name = \"畢卡索\"\n",
        "  ...: birthday = \"1881/10/25\"\n",
        "  ...: birthplace = \"Spain\"\n",
        "  ...: occupation = \"藝術家、畫家、作家\"\n",
        "  ...: print(\"二十世紀最出名藝術家:\\n name:{}\\n birthday{}\\n birthplace{}\\n occupation:{}\")\n"
      ],
      "execution_count": null,
      "outputs": [
        {
          "output_type": "stream",
          "text": [
            "二十世紀最出名藝術家:\n",
            " name:{}\n",
            " birthday{}\n",
            " birthplace{}\n",
            " occupation:{}\n"
          ],
          "name": "stdout"
        }
      ]
    }
  ]
}