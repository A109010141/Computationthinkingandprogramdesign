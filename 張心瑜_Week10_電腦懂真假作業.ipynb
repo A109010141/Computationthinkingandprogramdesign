{
  "nbformat": 4,
  "nbformat_minor": 0,
  "metadata": {
    "colab": {
      "name": "張心瑜 - Week11 - 電腦懂真假作業.ipynb",
      "provenance": [],
      "authorship_tag": "ABX9TyMu1rBs3aTWilCCDukWes6T",
      "include_colab_link": true
    },
    "kernelspec": {
      "name": "python3",
      "display_name": "Python 3"
    },
    "language_info": {
      "name": "python"
    }
  },
  "cells": [
    {
      "cell_type": "markdown",
      "metadata": {
        "id": "view-in-github",
        "colab_type": "text"
      },
      "source": [
        "<a href=\"https://colab.research.google.com/github/ppotteru/Computationthinkingandprogramdesign/blob/main/%E5%BC%B5%E5%BF%83%E7%91%9C_Week10_%E9%9B%BB%E8%85%A6%E6%87%82%E7%9C%9F%E5%81%87%E4%BD%9C%E6%A5%AD.ipynb\" target=\"_parent\"><img src=\"https://colab.research.google.com/assets/colab-badge.svg\" alt=\"Open In Colab\"/></a>"
      ]
    },
    {
      "cell_type": "markdown",
      "metadata": {
        "id": "gdtvWl1nqThx"
      },
      "source": [
        "隨堂練習1"
      ]
    },
    {
      "cell_type": "code",
      "metadata": {
        "colab": {
          "base_uri": "https://localhost:8080/"
        },
        "id": "ZRzvbWmHoS5S",
        "outputId": "7d8f4f64-d2b6-4aa1-c03f-15b56414a148"
      },
      "source": [
        "## Input\n",
        "\n",
        "number = input(\"Enter the last digit of ID card: \")\n",
        "number = int(number)\n",
        "\n",
        "## Process\n",
        "print(number % 2 == 1)\n",
        "\n",
        "## Output\n",
        "print(\" ......\")"
      ],
      "execution_count": null,
      "outputs": [
        {
          "output_type": "stream",
          "text": [
            "Enter the last digit of ID card: 7\n",
            "True\n",
            " ......\n"
          ],
          "name": "stdout"
        }
      ]
    },
    {
      "cell_type": "code",
      "metadata": {
        "id": "8CjKZvFds4ZN"
      },
      "source": [
        "print(True and True)\n",
        "print(True and False)\n",
        "print(False and False)\n",
        "print(False and True)"
      ],
      "execution_count": null,
      "outputs": []
    },
    {
      "cell_type": "markdown",
      "metadata": {
        "id": "e6jvXDPQyHRN"
      },
      "source": [
        "世新大學流浪記\n",
        "\n",
        "大家好，我叫你的小可愛。我是一個聊天機器人。\n",
        "我喜歡聊天，喜歡動物跟食物。\n",
        "\n",
        "你叫什麼名字？：frank \n",
        "你好，frank，很高興能跟你聊天。\n",
        "\n",
        "我不知道今天的日期請問你知道嗎？\n",
        "：2020520 \n",
        "\n",
        "你知道我今年幾歲嗎？：25\n",
        "你好棒，竟然猜對了！\n",
        "再75年我就100歲了。你知道那時候是幾年幾月嗎？：2095\n",
        "\n",
        "我喜歡吃巧克力，frank 你喜歡嗎？\n",
        "：喜歡\n",
        "你大概多久吃一次巧克力？：一星期一次\n",
        "我一星期只有一天不吃巧克力，你知道是星期幾嗎？：是星期三嗎？\n",
        "答對了！你真聰明。\n",
        "\n",
        "我昨天認識一個小哥哥，介紹給你好嗎？\n",
        "：不用了，我喜歡照顧弟弟\n",
        "\n",
        "那你多久運動一次？：半年\n",
        "真有趣。不知道這樣對身體好不好\n",
        "\n",
        "我最喜歡跟貓咪玩了。你呢？：我也喜歡，但你是要怎麼跟它玩？你只是個電腦欸\n",
        "\n",
        "先別說這個了。你今天心情如何？：我很困惑\n",
        "為什麼你現在覺得 困惑 呢？請告訴我：因為你說你會跟貓咪玩\n",
        "\n",
        "今天事情真多\n",
        "我累到無法聊天了。之後有空再跟你聊天。\n",
        "掰掰frank，下次見。\n",
        "\n",
        "組員:張心瑜，陳榆潔，黃筱涵\n"
      ]
    }
  ]
}