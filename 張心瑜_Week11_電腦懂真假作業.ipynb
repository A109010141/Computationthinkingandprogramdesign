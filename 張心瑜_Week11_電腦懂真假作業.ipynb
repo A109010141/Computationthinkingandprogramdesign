{
  "nbformat": 4,
  "nbformat_minor": 0,
  "metadata": {
    "colab": {
      "name": "張心瑜 - Week11 - 電腦懂真假作業.ipynb",
      "provenance": [],
      "authorship_tag": "ABX9TyNbMD6atwG2kVqll9GSZFmB",
      "include_colab_link": true
    },
    "kernelspec": {
      "name": "python3",
      "display_name": "Python 3"
    },
    "language_info": {
      "name": "python"
    }
  },
  "cells": [
    {
      "cell_type": "markdown",
      "metadata": {
        "id": "view-in-github",
        "colab_type": "text"
      },
      "source": [
        "<a href=\"https://colab.research.google.com/github/ppotteru/Computationthinkingandprogramdesign/blob/main/%E5%BC%B5%E5%BF%83%E7%91%9C_Week11_%E9%9B%BB%E8%85%A6%E6%87%82%E7%9C%9F%E5%81%87%E4%BD%9C%E6%A5%AD.ipynb\" target=\"_parent\"><img src=\"https://colab.research.google.com/assets/colab-badge.svg\" alt=\"Open In Colab\"/></a>"
      ]
    },
    {
      "cell_type": "markdown",
      "metadata": {
        "id": "gdtvWl1nqThx"
      },
      "source": [
        "隨堂練習1"
      ]
    },
    {
      "cell_type": "code",
      "metadata": {
        "colab": {
          "base_uri": "https://localhost:8080/"
        },
        "id": "ZRzvbWmHoS5S",
        "outputId": "7d8f4f64-d2b6-4aa1-c03f-15b56414a148"
      },
      "source": [
        "## Input\n",
        "\n",
        "number = input(\"Enter the last digit of ID card: \")\n",
        "number = int(number)\n",
        "\n",
        "## Process\n",
        "print(number % 2 == 1)\n",
        "\n",
        "## Output\n",
        "print(\" ......\")"
      ],
      "execution_count": 4,
      "outputs": [
        {
          "output_type": "stream",
          "text": [
            "Enter the last digit of ID card: 7\n",
            "True\n",
            " ......\n"
          ],
          "name": "stdout"
        }
      ]
    },
    {
      "cell_type": "code",
      "metadata": {
        "id": "8CjKZvFds4ZN"
      },
      "source": [
        "print(True and True)\n",
        "print(True and False)\n",
        "print(False and False)\n",
        "print(False and True)"
      ],
      "execution_count": null,
      "outputs": []
    },
    {
      "cell_type": "code",
      "metadata": {
        "id": "G4efixGatmw0"
      },
      "source": [
        ""
      ],
      "execution_count": null,
      "outputs": []
    }
  ]
}