{
  "nbformat": 4,
  "nbformat_minor": 0,
  "metadata": {
    "colab": {
      "name": "「張心瑜-WEEK3-練習作業.ipynb」的副本",
      "provenance": [],
      "authorship_tag": "ABX9TyMV9eufLzNo7J2YUZNjatbt",
      "include_colab_link": true
    },
    "kernelspec": {
      "name": "python3",
      "display_name": "Python 3"
    }
  },
  "cells": [
    {
      "cell_type": "markdown",
      "metadata": {
        "id": "view-in-github",
        "colab_type": "text"
      },
      "source": [
        "<a href=\"https://colab.research.google.com/github/ppotteru/Computationthinkingandprogramdesign/blob/main/%E3%80%8C%E5%BC%B5%E5%BF%83%E7%91%9C_WEEK3_%E7%B7%B4%E7%BF%92%E4%BD%9C%E6%A5%AD_ipynb%E3%80%8D%E7%9A%84%E5%89%AF%E6%9C%AC.ipynb\" target=\"_parent\"><img src=\"https://colab.research.google.com/assets/colab-badge.svg\" alt=\"Open In Colab\"/></a>"
      ]
    },
    {
      "cell_type": "markdown",
      "metadata": {
        "id": "dsk1aGw9NAOx"
      },
      "source": [
        "#隨堂練習"
      ]
    },
    {
      "cell_type": "code",
      "metadata": {
        "id": "RiIIDQ05NDdA"
      },
      "source": [
        "print(1=1)"
      ],
      "execution_count": null,
      "outputs": []
    },
    {
      "cell_type": "markdown",
      "metadata": {
        "id": "Y_vyLrNyehSr"
      },
      "source": [
        "認識電腦"
      ]
    },
    {
      "cell_type": "markdown",
      "metadata": {
        "id": "zlt_01GENMRf"
      },
      "source": [
        "#課後作業"
      ]
    },
    {
      "cell_type": "markdown",
      "metadata": {
        "id": "VDe0yVpINVI_"
      },
      "source": [
        "從一則新聞報導，提出你對新聞系(00系)學生為什麼要學「運算思維與程式設計」的見解。（告訴我新聞連結，以及你的觀點即可。）"
      ]
    },
    {
      "cell_type": "markdown",
      "metadata": {
        "id": "p70zlQUnNuBH"
      },
      "source": [
        "https://www.nownews.com/news/5207831"
      ]
    },
    {
      "cell_type": "markdown",
      "metadata": {
        "id": "-FeIvqxlb3t0"
      },
      "source": [
        "要完成一篇新聞需要配合版面也需要蒐集資料，之後還需要整理。如資料視覺化、資料處理、輿論分析都需要用到程式設計。如文中所述，英國的每日郵報為了一則專訪而去訪問路人，訪問完後也需要統計資料，這時候有運算思維與程式設計的技能便會有很大的幫助。"
      ]
    }
  ]
}