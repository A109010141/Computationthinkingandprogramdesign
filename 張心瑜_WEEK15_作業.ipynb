{
  "nbformat": 4,
  "nbformat_minor": 0,
  "metadata": {
    "colab": {
      "name": "張心瑜_WEEK15_作業.ipynb",
      "provenance": [],
      "authorship_tag": "ABX9TyNw58vuuXxI1Jl2hmIq3dF9",
      "include_colab_link": true
    },
    "kernelspec": {
      "name": "python3",
      "display_name": "Python 3"
    },
    "language_info": {
      "name": "python"
    }
  },
  "cells": [
    {
      "cell_type": "markdown",
      "metadata": {
        "id": "view-in-github",
        "colab_type": "text"
      },
      "source": [
        "<a href=\"https://colab.research.google.com/github/ppotteru/Computationthinkingandprogramdesign/blob/main/%E5%BC%B5%E5%BF%83%E7%91%9C_WEEK15_%E4%BD%9C%E6%A5%AD.ipynb\" target=\"_parent\"><img src=\"https://colab.research.google.com/assets/colab-badge.svg\" alt=\"Open In Colab\"/></a>"
      ]
    },
    {
      "cell_type": "markdown",
      "metadata": {
        "id": "1GY2Yf-DAfqR"
      },
      "source": [
        "聊天機器人"
      ]
    },
    {
      "cell_type": "markdown",
      "metadata": {
        "id": "nVQwC1SIAkm_"
      },
      "source": [
        "我輕輕地走，正如同我悄悄的來，我揮一揮衣袖，不帶走一片雲彩。\n",
        "\n",
        "今天是林安第一次到世新大學參觀，背負家鄉期望、獨自扛起的艱辛，讓她默默許下要在新聞系闖出一片天。\n",
        "\n",
        "又仁:你好，我是帶你參觀校園的聊天機器人，我的名字是又仁，你叫什麼名字呢? :我叫林安。\n",
        "\n",
        "林安:我今年升大一，你猜我幾歲? :19歲 :你好棒!竟然猜對了\n",
        "\n",
        "林安:再31年我就50歲，你知道那時會是西元幾年嗎? :2070年\n",
        ":是2071 :抱歉我不太會算數、真希望到時候我們還能見面。\n",
        "\n",
        ":那你最推薦新聞系哪一道課程? :鍾起惠老師的新聞學、我相信你會在那堂課中受益良多的。 :那我要好好跟他學習。\n",
        "\n",
        ":對了!最近要買系服了 你想好你要穿甚麼尺寸了嗎?\n",
        "\n",
        ":還沒耶 我不知道我適合什麼樣的尺寸\n",
        "\n",
        "又仁:那你給我身高體重 我幫你決定\n",
        "\n",
        "又仁:身高: (輸入身高)\n",
        "\n",
        "又仁:體重: (輸入體重)\n",
        "\n",
        "又仁:你適合(S,M,L,XL)\n",
        "\n",
        "林安:謝拉 真期待穿到好看的系服\n",
        "\n",
        "林安:我們操場感覺好小喔 你知道操場面積嗎?\n",
        "\n",
        "又仁:不知道 你給我半徑我幫你算\n",
        "\n",
        "林安:我查一下手機 半徑:\n",
        "\n",
        "又仁:面積是xxx\n",
        "\n",
        "又仁:祝你有個愉快的一天、大學生活順遂、掰掰。 :掰掰。"
      ]
    },
    {
      "cell_type": "code",
      "metadata": {
        "id": "KdXqw2tyABoy"
      },
      "source": [
        ""
      ],
      "execution_count": null,
      "outputs": []
    }
  ]
}